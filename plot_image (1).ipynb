{
  "nbformat": 4,
  "nbformat_minor": 0,
  "metadata": {
    "colab": {
      "name": "plot_image.ipynb",
      "version": "0.3.2",
      "provenance": []
    },
    "kernelspec": {
      "display_name": "Python 3",
      "language": "python",
      "name": "python3"
    }
  },
  "cells": [
    {
      "metadata": {
        "id": "Ugp038xIO6iA",
        "colab_type": "code",
        "colab": {
          "base_uri": "https://localhost:8080/",
          "height": 731
        },
        "outputId": "f0b24ec6-ca0c-4fe6-a44b-58279dee57ec"
      },
      "cell_type": "code",
      "source": [
        "!ls \"/content/drive/My Drive/\""
      ],
      "execution_count": 1,
      "outputs": [
        {
          "output_type": "stream",
          "text": [
            " 1447231850380.jpg\n",
            " 1447254955575.jpg\n",
            "'Avenged Sevenfold - Afterlife (99cebc38425531946e4a440d52c6fddd).mp3'\n",
            "'Avenged Sevenfold - Hail To The King (3400461099d2ac342de7ea1ce3a59951).mp3'\n",
            "'Avenged Sevenfold - Nightmare (3e1dd4286ef1df63c0a0eb8567b504be).mp3'\n",
            "'Calvin Harris;Disciples - How Deep Is Your Love (132921504).mp3'\n",
            "'Colab Notebooks'\n",
            " DSC_0462.JPG\n",
            " DSC_0463.JPG\n",
            " DSC_0464.JPG\n",
            " DSC_0465.JPG\n",
            " DSC_0466.JPG\n",
            " DSC_0467.JPG\n",
            " DSC_0468.JPG\n",
            " DSC_0470.JPG\n",
            " DSC_0472.JPG\n",
            " DSC_0473.JPG\n",
            " DSC_0475.JPG\n",
            " DSC_0477.JPG\n",
            " DSC_0478.JPG\n",
            " DSC_0479.JPG\n",
            " DSC_0480.JPG\n",
            " DSC_0481.JPG\n",
            " DSC_0491.JPG\n",
            " DSC_0492.JPG\n",
            " DSC_0493.JPG\n",
            " DSC_0496.JPG\n",
            " DSC_0497.JPG\n",
            " DSC_0499.JPG\n",
            " DSC_0500.JPG\n",
            "'É¡½ç«¥mj116 - Äºœæ‰‹è½¦ (91d9490ebbb0be935e358224156670fb).mp3'\n",
            "'É™ˆå˜‰å”¯ã€�e - so (51f31ec574de43759a9a495666684f39).mp3'\n",
            "'Gd X Taeyang - Good Boy (bfe0ba93e4bbf7e5628fbc640133ffdd).mp3'\n",
            "'Martin Garrixã€�wizard - D (70de3569ffaaaa190a8688553790f221).mp3'\n",
            "'Omarionã€�chris Brownã€�jhene Aiko - Post To Be (fb1aa903b0e4dd7f7ae888f98dbeedf6).mp3'\n",
            " p2.png\n",
            "'R. City;Adam Levine - Locked Away (134114775).mp3'\n",
            " received_920842147980124.jpeg\n",
            " Video_Zip_20160103_092915.mp4\n",
            "'無標題簡報 (1).gslides'\n",
            " 無標題簡報.gslides\n",
            " 無標題表單.gform\n"
          ],
          "name": "stdout"
        }
      ]
    },
    {
      "metadata": {
        "id": "Na41BKyYO6iF",
        "colab_type": "code",
        "colab": {
          "base_uri": "https://localhost:8080/",
          "height": 34
        },
        "outputId": "a2cb208c-6155-4592-cb48-ecb241f608dc"
      },
      "cell_type": "code",
      "source": [
        "!ls \"/content/drive/My Drive/p2.png\""
      ],
      "execution_count": 2,
      "outputs": [
        {
          "output_type": "stream",
          "text": [
            "'/content/drive/My Drive/p2.png'\n"
          ],
          "name": "stdout"
        }
      ]
    },
    {
      "metadata": {
        "id": "98mAqeFWO6iI",
        "colab_type": "code",
        "colab": {
          "base_uri": "https://localhost:8080/",
          "height": 347
        },
        "outputId": "e3d900d3-b4d2-43f8-b29f-d9b1a1282e77"
      },
      "cell_type": "code",
      "source": [
        "# plot image\n",
        "import matplotlib.pyplot as plt\n",
        "from matplotlib.image import imread\n",
        "\n",
        "img = imread('/content/drive/My Drive/p2.png') # 画像の読み込み\n",
        "plt.imshow(img)\n",
        "\n",
        "plt.show()"
      ],
      "execution_count": 3,
      "outputs": [
        {
          "output_type": "display_data",
          "data": {
            "image/png": "[encoded data removed]",
            "text/plain": [
              "<matplotlib.figure.Figure at 0x7f4a059024e0>"
            ]
          },
          "metadata": {
            "tags": []
          }
        }
      ]
    }
  ]
}